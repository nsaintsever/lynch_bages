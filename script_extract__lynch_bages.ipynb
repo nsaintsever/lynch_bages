{
 "cells": [
  {
   "cell_type": "markdown",
   "id": "75834ed9",
   "metadata": {
    "ExecuteTime": {
     "end_time": "2024-10-24T08:03:14.896890Z",
     "start_time": "2024-10-24T08:03:14.894316Z"
    }
   },
   "source": [
    "# Import"
   ]
  },
  {
   "cell_type": "code",
   "execution_count": 1,
   "id": "7a2ec651",
   "metadata": {
    "ExecuteTime": {
     "end_time": "2025-07-04T06:43:22.366083Z",
     "start_time": "2025-07-04T06:43:20.477594Z"
    },
    "execution": {
     "iopub.execute_input": "2025-10-17T07:19:09.035363Z",
     "iopub.status.busy": "2025-10-17T07:19:09.034823Z",
     "iopub.status.idle": "2025-10-17T07:19:10.177860Z",
     "shell.execute_reply": "2025-10-17T07:19:10.177142Z",
     "shell.execute_reply.started": "2025-10-17T07:19:09.035328Z"
    }
   },
   "outputs": [],
   "source": [
    "import pandas as pd\n",
    "import glob\n",
    "import os\n",
    "import numpy as np\n",
    "import re\n",
    "import unicodedata\n",
    "import unidecode\n",
    "import requests\n",
    "import datetime\n",
    "import csv\n",
    "import pandas as pd\n",
    "import streamlit as st\n",
    "import plotly.graph_objects as go\n",
    "from datetime import datetime\n",
    "from currency_converter import CurrencyConverter\n",
    "\n",
    "from unicodedata import normalize"
   ]
  },
  {
   "cell_type": "code",
   "execution_count": 2,
   "id": "96c0626a-4af4-4c30-92a2-100af7581106",
   "metadata": {
    "execution": {
     "iopub.execute_input": "2025-10-17T07:19:10.178865Z",
     "iopub.status.busy": "2025-10-17T07:19:10.178577Z",
     "iopub.status.idle": "2025-10-17T07:19:10.195937Z",
     "shell.execute_reply": "2025-10-17T07:19:10.195348Z",
     "shell.execute_reply.started": "2025-10-17T07:19:10.178850Z"
    }
   },
   "outputs": [],
   "source": [
    "import os, re, glob, csv\n",
    "from pathlib import Path\n",
    "import pandas as pd\n",
    "import numpy as np\n",
    "from tqdm import tqdm"
   ]
  },
  {
   "cell_type": "markdown",
   "id": "15c2627e-4aee-43c3-97e3-0d3765a2b01d",
   "metadata": {
    "execution": {
     "iopub.execute_input": "2025-10-15T07:24:03.472047Z",
     "iopub.status.busy": "2025-10-15T07:24:03.471369Z",
     "iopub.status.idle": "2025-10-15T07:24:03.479865Z",
     "shell.execute_reply": "2025-10-15T07:24:03.478142Z",
     "shell.execute_reply.started": "2025-10-15T07:24:03.472016Z"
    }
   },
   "source": [
    "# Concaténation data"
   ]
  },
  {
   "cell_type": "code",
   "execution_count": 77,
   "id": "09d4ec77-f71f-443a-89be-3a2299b118fb",
   "metadata": {
    "execution": {
     "iopub.execute_input": "2025-10-15T07:35:23.074895Z",
     "iopub.status.busy": "2025-10-15T07:35:23.074170Z",
     "iopub.status.idle": "2025-10-15T07:45:13.749407Z",
     "shell.execute_reply": "2025-10-15T07:45:13.747027Z",
     "shell.execute_reply.started": "2025-10-15T07:35:23.074829Z"
    }
   },
   "outputs": [
    {
     "name": "stderr",
     "output_type": "stream",
     "text": [
      "Découverte colonnes: 100%|███████████████████████████████████████████████████████████████████████████████████████████████████████████████████████████| 14020/14020 [00:22<00:00, 626.68it/s]\n",
      "Ingestion: 100%|██████████████████████████████████████████████████████████████████████████████████████████████████████████████████████████████████████| 14020/14020 [09:28<00:00, 24.68it/s]"
     ]
    },
    {
     "name": "stdout",
     "output_type": "stream",
     "text": [
      "Terminé. Lignes lues: 51087394, lignes écrites: 51087394\n",
      "CSV: out/all_rows.csv\n"
     ]
    },
    {
     "name": "stderr",
     "output_type": "stream",
     "text": [
      "\n"
     ]
    }
   ],
   "source": [
    "INPUT_DIR = \"data\"\n",
    "OUTPUT_CSV = \"out/all_rows.csv\"\n",
    "CHUNKSIZE = 20_000\n",
    "\n",
    "def normalize_col(c: str) -> str:\n",
    "    if c is None: return \"\"\n",
    "    c2 = c.strip().lower()\n",
    "    return {\"date\":\"date\", \"negociant\":\"negociant\"}.get(c2, c2)\n",
    "\n",
    "def extract_negociant(path: str) -> str:\n",
    "    base = Path(path).name\n",
    "    m = re.match(r\"^\\d{8}_(.+?)\\.csv$\", base)\n",
    "    return m.group(1) if m else os.path.splitext(base)[0]\n",
    "\n",
    "def extract_date_from_filename(path: str) -> str | None:\n",
    "    m = re.search(r\"(\\d{4})(\\d{2})(\\d{2})_\", Path(path).name)\n",
    "    return f\"{m.group(1)}-{m.group(2)}-{m.group(3)}\" if m else None\n",
    "\n",
    "def read_csv_chunked(file: str, chunksize: int):\n",
    "    kw = dict(sep=None, engine=\"python\", chunksize=chunksize, dtype=str, on_bad_lines=\"warn\")\n",
    "    try:\n",
    "        return pd.read_csv(file, encoding=\"latin-1\", encoding_errors=\"replace\", **kw)\n",
    "    except TypeError:\n",
    "        return pd.read_csv(file, encoding=\"latin-1\", **kw)\n",
    "\n",
    "csv_files = sorted(glob.glob(os.path.join(INPUT_DIR, \"*.csv\")))\n",
    "if not csv_files:\n",
    "    raise SystemExit(f\"Aucun CSV dans {INPUT_DIR}\")\n",
    "\n",
    "# Découverte colonnes\n",
    "all_cols = set()\n",
    "for f in tqdm(csv_files, desc=\"Découverte colonnes\"):\n",
    "    try:\n",
    "        cols = pd.read_csv(f, nrows=0, sep=None, engine=\"python\", encoding=\"latin-1\").columns\n",
    "    except Exception:\n",
    "        try:\n",
    "            cols = pd.read_csv(f, nrows=0, sep=None, engine=\"python\", encoding=\"utf-8-sig\").columns\n",
    "        except Exception:\n",
    "            cols = []\n",
    "    all_cols.update(normalize_col(c) for c in cols)\n",
    "\n",
    "all_cols.update([\"date\",\"negociant\"])\n",
    "TARGET_COLS = [\"date\",\"negociant\"] + sorted(c for c in all_cols if c not in [\"date\",\"negociant\"])\n",
    "\n",
    "os.makedirs(os.path.dirname(OUTPUT_CSV), exist_ok=True)\n",
    "# (ré)écrit l’en-tête une seule fois\n",
    "pd.DataFrame(columns=TARGET_COLS).to_csv(OUTPUT_CSV, index=False, lineterminator=\"\\n\")\n",
    "\n",
    "tot_in = tot_out = 0\n",
    "for file in tqdm(csv_files, desc=\"Ingestion\"):\n",
    "    negociant = extract_negociant(file)\n",
    "    date_from_name = extract_date_from_filename(file)\n",
    "\n",
    "    try:\n",
    "        for chunk in read_csv_chunked(file, CHUNKSIZE):\n",
    "            tot_in += len(chunk)\n",
    "            chunk.columns = [normalize_col(c) for c in chunk.columns]\n",
    "            if \"negociant\" not in chunk.columns:\n",
    "                chunk[\"negociant\"] = negociant\n",
    "            if \"date\" not in chunk.columns:\n",
    "                chunk[\"date\"] = date_from_name\n",
    "            else:\n",
    "                if date_from_name is not None:\n",
    "                    mask_empty = chunk[\"date\"].isna() | (chunk[\"date\"].astype(str).str.strip() == \"\")\n",
    "                    chunk.loc[mask_empty, \"date\"] = date_from_name\n",
    "\n",
    "            chunk = chunk.reindex(columns=TARGET_COLS).fillna(\"\")\n",
    "            chunk.to_csv(OUTPUT_CSV, mode=\"a\", index=False, header=False, lineterminator=\"\\n\")\n",
    "            tot_out += len(chunk)\n",
    "    except Exception as e:\n",
    "        print(f\"[ERROR] Lecture impossible: {file} -> {e}\")\n",
    "        continue\n",
    "\n",
    "print(f\"Terminé. Lignes lues: {tot_in}, lignes écrites: {tot_out}\")\n",
    "print(f\"CSV: {OUTPUT_CSV}\")\n"
   ]
  },
  {
   "cell_type": "code",
   "execution_count": 3,
   "id": "cf89794c-a8ce-41c6-9bec-f6a951e5517e",
   "metadata": {
    "execution": {
     "iopub.execute_input": "2025-10-17T07:05:56.208805Z",
     "iopub.status.busy": "2025-10-17T07:05:56.206578Z",
     "iopub.status.idle": "2025-10-17T07:06:15.898310Z",
     "shell.execute_reply": "2025-10-17T07:06:15.890301Z",
     "shell.execute_reply.started": "2025-10-17T07:05:56.208726Z"
    }
   },
   "outputs": [
    {
     "data": {
      "application/vnd.jupyter.widget-view+json": {
       "model_id": "7443610cfd714a09b846a018604ebb8b",
       "version_major": 2,
       "version_minor": 0
      },
      "text/plain": [
       "FloatProgress(value=0.0, layout=Layout(width='auto'), style=ProgressStyle(bar_color='black'))"
      ]
     },
     "metadata": {},
     "output_type": "display_data"
    },
    {
     "name": "stdout",
     "output_type": "stream",
     "text": [
      "Lignes extraites: 388611\n"
     ]
    }
   ],
   "source": [
    "import duckdb\n",
    "\n",
    "IN  = \"out/all_rows.csv\"\n",
    "OUT = \"out/lynch_talbot_rows.csv\"\n",
    "\n",
    "con = duckdb.connect()\n",
    "con.execute(f\"\"\"\n",
    "  COPY (\n",
    "    SELECT *\n",
    "    FROM read_csv_auto('{IN}', sample_size=-1, nullstr='', ALL_VARCHAR=TRUE)\n",
    "    WHERE\n",
    "      (\n",
    "        COALESCE(chateau, '')    ILIKE '%lynch%bages%'\n",
    "     OR COALESCE(vin, '')        ILIKE '%lynch%bages%'\n",
    "     OR COALESCE(producteur, '') ILIKE '%lynch%bages%'\n",
    "      )\n",
    "      OR\n",
    "      (\n",
    "        COALESCE(chateau, '')    ILIKE '%talbot%'\n",
    "     OR COALESCE(vin, '')        ILIKE '%talbot%'\n",
    "     OR COALESCE(producteur, '') ILIKE '%talbot%'\n",
    "      )\n",
    "  )\n",
    "  TO '{OUT}' (HEADER, DELIMITER ',');\n",
    "\"\"\")\n",
    "\n",
    "# Compter\n",
    "n = con.execute(f\"SELECT COUNT(*) FROM read_csv_auto('{OUT}', sample_size=-1, ALL_VARCHAR=TRUE)\").fetchone()[0]\n",
    "print(\"Lignes extraites:\", n)\n",
    "\n",
    "con.close()\n",
    "\n"
   ]
  },
  {
   "cell_type": "markdown",
   "id": "88532c5b",
   "metadata": {
    "ExecuteTime": {
     "end_time": "2024-10-24T09:54:53.513636Z",
     "start_time": "2024-10-24T09:54:53.510400Z"
    }
   },
   "source": [
    "# Récupération et cleaning data"
   ]
  },
  {
   "cell_type": "code",
   "execution_count": 5,
   "id": "cb0b6b9f-a04c-40ce-b552-ff32fc126639",
   "metadata": {
    "execution": {
     "iopub.execute_input": "2025-10-17T07:06:23.136146Z",
     "iopub.status.busy": "2025-10-17T07:06:23.134425Z",
     "iopub.status.idle": "2025-10-17T07:06:23.782090Z",
     "shell.execute_reply": "2025-10-17T07:06:23.778653Z",
     "shell.execute_reply.started": "2025-10-17T07:06:23.136099Z"
    }
   },
   "outputs": [
    {
     "name": "stderr",
     "output_type": "stream",
     "text": [
      "/tmp/ipykernel_421379/941311877.py:1: DtypeWarning: Columns (12,19) have mixed types. Specify dtype option on import or set low_memory=False.\n",
      "  general_df = pd.read_csv(OUT)\n"
     ]
    }
   ],
   "source": [
    "general_df = pd.read_csv(OUT)"
   ]
  },
  {
   "cell_type": "code",
   "execution_count": 7,
   "id": "36d6e42b-f129-4690-be42-3e7886725e48",
   "metadata": {
    "execution": {
     "iopub.execute_input": "2025-10-17T07:06:36.607224Z",
     "iopub.status.busy": "2025-10-17T07:06:36.606426Z",
     "iopub.status.idle": "2025-10-17T07:06:36.785386Z",
     "shell.execute_reply": "2025-10-17T07:06:36.784130Z",
     "shell.execute_reply.started": "2025-10-17T07:06:36.607166Z"
    }
   },
   "outputs": [],
   "source": [
    "general_df.vin = general_df['vin'].fillna(general_df['chateau']).fillna(general_df['producteur'])\n",
    "general_df = general_df.drop(columns=[\"prix\",\"pays\",\"price\",\"classification\",\"source\"])"
   ]
  },
  {
   "cell_type": "code",
   "execution_count": null,
   "id": "3dc96c65-9ab4-46d4-a712-b4e2357aa627",
   "metadata": {},
   "outputs": [],
   "source": []
  },
  {
   "cell_type": "code",
   "execution_count": 6,
   "id": "8f293c42",
   "metadata": {
    "ExecuteTime": {
     "end_time": "2025-07-04T06:53:59.097903Z",
     "start_time": "2025-07-04T06:53:37.115937Z"
    },
    "execution": {
     "iopub.execute_input": "2025-10-17T07:20:14.102924Z",
     "iopub.status.busy": "2025-10-17T07:20:14.102541Z",
     "iopub.status.idle": "2025-10-17T07:20:14.763130Z",
     "shell.execute_reply": "2025-10-17T07:20:14.762673Z",
     "shell.execute_reply.started": "2025-10-17T07:20:14.102871Z"
    }
   },
   "outputs": [
    {
     "name": "stderr",
     "output_type": "stream",
     "text": [
      "/tmp/ipykernel_423308/3872190230.py:3: DtypeWarning: Columns (15) have mixed types. Specify dtype option on import or set low_memory=False.\n",
      "  general_df  = pd.read_csv(\"general_df.csv\",encoding=\"latin-1\")\n"
     ]
    }
   ],
   "source": [
    "# general_df.to_csv(\"general_df.csv\",index=None)\n",
    "\n",
    "general_df  = pd.read_csv(\"general_df.csv\",encoding=\"latin-1\")"
   ]
  },
  {
   "cell_type": "code",
   "execution_count": null,
   "id": "9b74513a-15fb-406d-8cd3-ac11985007f2",
   "metadata": {},
   "outputs": [],
   "source": []
  },
  {
   "cell_type": "code",
   "execution_count": 7,
   "id": "c358bb93",
   "metadata": {
    "ExecuteTime": {
     "end_time": "2025-07-04T06:55:13.330603Z",
     "start_time": "2025-07-04T06:55:12.690935Z"
    },
    "execution": {
     "iopub.execute_input": "2025-10-17T07:20:19.615097Z",
     "iopub.status.busy": "2025-10-17T07:20:19.614867Z",
     "iopub.status.idle": "2025-10-17T07:20:19.727569Z",
     "shell.execute_reply": "2025-10-17T07:20:19.726967Z",
     "shell.execute_reply.started": "2025-10-17T07:20:19.615084Z"
    }
   },
   "outputs": [],
   "source": [
    "general_df = general_df.drop(columns=['details', 'detail'], errors='ignore')\n",
    "\n",
    "general_df['prix_unitaire'] = general_df['prix_unitaire'].fillna(general_df['price_per_unit'])\n",
    "\n",
    "general_df = general_df.drop(columns=['price_per_unit'], errors='ignore')"
   ]
  },
  {
   "cell_type": "code",
   "execution_count": 8,
   "id": "a33cc249",
   "metadata": {
    "ExecuteTime": {
     "end_time": "2025-07-04T06:55:13.497137Z",
     "start_time": "2025-07-04T06:55:13.334036Z"
    },
    "execution": {
     "iopub.execute_input": "2025-10-17T07:20:19.981347Z",
     "iopub.status.busy": "2025-10-17T07:20:19.980567Z",
     "iopub.status.idle": "2025-10-17T07:20:20.037005Z",
     "shell.execute_reply": "2025-10-17T07:20:20.035984Z",
     "shell.execute_reply.started": "2025-10-17T07:20:19.981236Z"
    }
   },
   "outputs": [],
   "source": [
    "general_df = general_df.drop(columns=[\"lwin\",\"conditionnement\"])"
   ]
  },
  {
   "cell_type": "code",
   "execution_count": 9,
   "id": "36be293d",
   "metadata": {
    "ExecuteTime": {
     "end_time": "2025-07-04T07:00:20.706465Z",
     "start_time": "2025-07-04T07:00:03.056281Z"
    },
    "execution": {
     "iopub.execute_input": "2025-10-17T07:20:20.449132Z",
     "iopub.status.busy": "2025-10-17T07:20:20.448698Z",
     "iopub.status.idle": "2025-10-17T07:20:21.161187Z",
     "shell.execute_reply": "2025-10-17T07:20:21.160315Z",
     "shell.execute_reply.started": "2025-10-17T07:20:20.449102Z"
    }
   },
   "outputs": [],
   "source": [
    "\n",
    "# 2) Haystack = Series (pas DataFrame)\n",
    "haystack = general_df['vin'].fillna('').astype(str)  # Series\n",
    "\n",
    "\n",
    "# 4) Exclusion\n",
    "exclude_terms = [\"echo\", \"moussas\",\"blanc\",\"Averous\", \"berry\", \"3rd\",\"ConnÃ©table\",\"connetable\",\"caillou\",\"case\"]\n",
    "if exclude_terms:\n",
    "    exclude_pattern = re.compile(\"|\".join(map(re.escape, exclude_terms)), re.I)\n",
    "    mask_exclude = haystack.str.contains(exclude_pattern, na=False)\n",
    "else:\n",
    "    mask_exclude = pd.Series(False, index=general_df.index)\n",
    "\n",
    "# 5) Filtrage\n",
    "sub_df = general_df[~mask_exclude].copy()\n",
    "\n",
    "\n"
   ]
  },
  {
   "cell_type": "code",
   "execution_count": null,
   "id": "6882eb11-1f9b-4a05-9293-494bacfb47b0",
   "metadata": {},
   "outputs": [],
   "source": []
  },
  {
   "cell_type": "code",
   "execution_count": 10,
   "id": "21e52bf4",
   "metadata": {
    "ExecuteTime": {
     "end_time": "2025-07-04T07:01:03.182216Z",
     "start_time": "2025-07-04T07:01:02.956293Z"
    },
    "execution": {
     "iopub.execute_input": "2025-10-17T07:20:22.629707Z",
     "iopub.status.busy": "2025-10-17T07:20:22.629252Z",
     "iopub.status.idle": "2025-10-17T07:20:22.687996Z",
     "shell.execute_reply": "2025-10-17T07:20:22.687239Z",
     "shell.execute_reply.started": "2025-10-17T07:20:22.629677Z"
    }
   },
   "outputs": [],
   "source": [
    "def simplify_couleur(couleur):\n",
    "    couleur = couleur.lower()\n",
    "    if \"red\" in couleur or \"rouge\" in couleur:\n",
    "        return \"red\"\n",
    "    elif \"white\" in couleur or \"blanc\" in couleur or \"dry\" in couleur or \"sweet\" in couleur:\n",
    "        return \"white\"\n",
    "    elif \"rose\" in couleur or \"rosé\" in couleur:\n",
    "        return \"rose\"\n",
    "    else:\n",
    "        return couleur\n",
    "\n",
    "sub_df['couleur'] = sub_df['couleur'].apply(simplify_couleur)"
   ]
  },
  {
   "cell_type": "code",
   "execution_count": 11,
   "id": "3a14a333",
   "metadata": {
    "ExecuteTime": {
     "end_time": "2025-07-04T07:01:03.633877Z",
     "start_time": "2025-07-04T07:01:03.609502Z"
    },
    "execution": {
     "iopub.execute_input": "2025-10-17T07:20:23.030035Z",
     "iopub.status.busy": "2025-10-17T07:20:23.029543Z",
     "iopub.status.idle": "2025-10-17T07:20:23.039667Z",
     "shell.execute_reply": "2025-10-17T07:20:23.037719Z",
     "shell.execute_reply.started": "2025-10-17T07:20:23.030006Z"
    }
   },
   "outputs": [],
   "source": [
    "df = sub_df"
   ]
  },
  {
   "cell_type": "code",
   "execution_count": 12,
   "id": "07fa4761",
   "metadata": {
    "ExecuteTime": {
     "end_time": "2025-07-04T07:01:04.879915Z",
     "start_time": "2025-07-04T07:01:03.927310Z"
    },
    "execution": {
     "iopub.execute_input": "2025-10-17T07:20:23.431110Z",
     "iopub.status.busy": "2025-10-17T07:20:23.428764Z",
     "iopub.status.idle": "2025-10-17T07:20:24.371396Z",
     "shell.execute_reply": "2025-10-17T07:20:24.370166Z",
     "shell.execute_reply.started": "2025-10-17T07:20:23.431044Z"
    }
   },
   "outputs": [],
   "source": [
    "format_mapping = {\n",
    "    '75cl':    ['75cl','BT','750ml',750.0,'BT6','BT9','BT4','BT1',\" 75cl\"],\n",
    "    '150cl':   ['150cl','1.5L','MG','Magnum','magnum',1500.0,'MG1','MG3',\" 150cl\"],\n",
    "    '37.5cl':  ['37.5cl','375ml',375.0,'Half bottle','Half Bottle','37cl','375cl',\"HV\"],\n",
    "    '300cl':   ['300cl','DM','3000.0',3000.0,'Double Magnums','DM3','3L'],\n",
    "    '600cl':   ['6L','6000.0',6000.0,'600cl','Imperial','IM'],\n",
    "    '225cl':   ['MJ'],\n",
    "    '900cl':   ['900cl','9L',9000.0,'SZ'],\n",
    "    '1800cl':  ['1800cl','18L',18000.0,'MC','Melchior','melchior'],\n",
    "    '1200cl':  ['12L','12000.0','Balthazar',12000.0],\n",
    "    '1500cl':  ['1500cl','15L',15000.0,'Nabuchodonosor','NB','Nebuchadnezzar',\n",
    "                'nabuchodonosor','nebuchadnezzar'],\n",
    "    '2700cl':  ['2700cl','27L',27000.0,'PR','Primat','primat'],\n",
    "    '500cl':   ['500cl','5L',5000.0,'JR','Jeroboam'],\n",
    "    '50cl':    ['50cl',500.0],\n",
    "    '450cl':   ['450cl','4.5L'],\n",
    "    '10cl':    ['10cl'],\n",
    "}\n",
    "\n",
    "# --- 3) On compile un regex par clé\n",
    "patterns = {}\n",
    "for target, aliases in format_mapping.items():\n",
    "    alt = [re.escape(str(a).strip().lower()) for a in aliases]\n",
    "    # on trie par longueur décroissante pour capturer d'abord le plus long\n",
    "    alt.sort(key=len, reverse=True)\n",
    "    patterns[target] = re.compile(r'(' + '|'.join(alt) + r')', re.I)\n",
    "\n",
    "# --- 4) Fonction de mapping\n",
    "def map_format(raw):\n",
    "    s = str(raw).strip().lower().replace('×','x')\n",
    "    for target, pat in patterns.items():\n",
    "        if pat.search(s):\n",
    "            return target\n",
    "    return np.nan\n",
    "\n",
    "# --- 5) On l'applique\n",
    "df['format'] = df['format'].apply(map_format)\n"
   ]
  },
  {
   "cell_type": "code",
   "execution_count": null,
   "id": "1e9211de-c451-4ac8-8452-cb3dc86f26e9",
   "metadata": {},
   "outputs": [],
   "source": []
  },
  {
   "cell_type": "code",
   "execution_count": 13,
   "id": "b67fc84d",
   "metadata": {
    "ExecuteTime": {
     "end_time": "2025-07-04T07:01:06.873192Z",
     "start_time": "2025-07-04T07:01:06.252642Z"
    },
    "execution": {
     "iopub.execute_input": "2025-10-17T07:20:25.063108Z",
     "iopub.status.busy": "2025-10-17T07:20:25.062619Z",
     "iopub.status.idle": "2025-10-17T07:20:25.318777Z",
     "shell.execute_reply": "2025-10-17T07:20:25.318205Z",
     "shell.execute_reply.started": "2025-10-17T07:20:25.063077Z"
    }
   },
   "outputs": [],
   "source": [
    "df = df[~df.quantite.isna()]\n",
    "df = df[~df.prix_unitaire.isna()]\n",
    "df = df[~df.format.isna()]\n",
    "df = df[df.couleur ==\"red\"]"
   ]
  },
  {
   "cell_type": "code",
   "execution_count": 14,
   "id": "cbd9ae35",
   "metadata": {
    "ExecuteTime": {
     "end_time": "2025-07-04T07:01:10.961121Z",
     "start_time": "2025-07-04T07:01:07.166633Z"
    },
    "execution": {
     "iopub.execute_input": "2025-10-17T07:20:26.234855Z",
     "iopub.status.busy": "2025-10-17T07:20:26.234509Z",
     "iopub.status.idle": "2025-10-17T07:20:27.706965Z",
     "shell.execute_reply": "2025-10-17T07:20:27.706316Z",
     "shell.execute_reply.started": "2025-10-17T07:20:26.234836Z"
    }
   },
   "outputs": [
    {
     "name": "stderr",
     "output_type": "stream",
     "text": [
      "/tmp/ipykernel_423308/782755193.py:1: UserWarning: The argument 'infer_datetime_format' is deprecated and will be removed in a future version. A strict version of it is now the default, see https://pandas.pydata.org/pdeps/0004-consistent-to-datetime-parsing.html. You can safely remove this argument.\n",
      "  df['date_parsed'] = pd.to_datetime(\n"
     ]
    }
   ],
   "source": [
    "df['date_parsed'] = pd.to_datetime(\n",
    "    df['date'].astype(str),\n",
    "    dayfirst=True,\n",
    "    infer_datetime_format=True,\n",
    "    errors='coerce'\n",
    ")\n",
    "\n",
    "# 2a) Si vous voulez garder un type datetime64[ns]\n",
    "df['date'] = df['date_parsed']\n",
    "\n",
    "# 2b) Si vous préférez une string ISO 'YYYY-MM-DD'\n",
    "df['date'] = df['date_parsed'].dt.strftime('%Y%m%d')\n",
    "\n",
    "# 3) Optionnel : on supprime la colonne temporaire\n",
    "df.drop(columns='date_parsed', inplace=True)\n"
   ]
  },
  {
   "cell_type": "markdown",
   "id": "5d3e2f68",
   "metadata": {
    "ExecuteTime": {
     "end_time": "2024-10-25T09:40:11.643671Z",
     "start_time": "2024-10-25T09:40:11.641097Z"
    }
   },
   "source": [
    "# Final df à enregistrer + standardiser nom "
   ]
  },
  {
   "cell_type": "code",
   "execution_count": 15,
   "id": "777f9f52-0c92-4687-8077-4bed5dc91981",
   "metadata": {
    "ExecuteTime": {
     "end_time": "2025-07-04T07:02:17.279537Z",
     "start_time": "2025-07-04T07:02:17.252229Z"
    },
    "execution": {
     "iopub.execute_input": "2025-10-17T07:20:28.381204Z",
     "iopub.status.busy": "2025-10-17T07:20:28.380771Z",
     "iopub.status.idle": "2025-10-17T07:20:28.720215Z",
     "shell.execute_reply": "2025-10-17T07:20:28.719407Z",
     "shell.execute_reply.started": "2025-10-17T07:20:28.381175Z"
    }
   },
   "outputs": [],
   "source": [
    "cond_talbot = df[\"vin\"].str.contains(r\"\\bTalbot\\b\", case=False, na=False)\n",
    "cond_lynch  = df[\"vin\"].str.contains(r\"\\bLynch\\b\",  case=False, na=False)\n",
    "\n",
    "df[\"vin_clean\"] = np.select(\n",
    "    [cond_talbot,          cond_lynch],\n",
    "    [\"Château Talbot\",     \"Château Lynch-Bages\"],  # (typo corrigée : \"Château\")\n",
    "    default=df[\"vin\"]\n",
    ")\n"
   ]
  },
  {
   "cell_type": "code",
   "execution_count": 16,
   "id": "0ba04508",
   "metadata": {
    "ExecuteTime": {
     "end_time": "2025-07-04T07:02:18.650145Z",
     "start_time": "2025-07-04T07:02:18.485162Z"
    },
    "execution": {
     "iopub.execute_input": "2025-10-17T07:20:29.376995Z",
     "iopub.status.busy": "2025-10-17T07:20:29.376467Z",
     "iopub.status.idle": "2025-10-17T07:20:29.422612Z",
     "shell.execute_reply": "2025-10-17T07:20:29.421144Z",
     "shell.execute_reply.started": "2025-10-17T07:20:29.376964Z"
    },
    "scrolled": true
   },
   "outputs": [],
   "source": [
    "df.drop(columns=[\"producteur\",\"chateau\"],inplace=True)"
   ]
  },
  {
   "cell_type": "code",
   "execution_count": 17,
   "id": "6427c110-5296-4dae-8d0e-af9bc3020f58",
   "metadata": {
    "execution": {
     "iopub.execute_input": "2025-10-17T07:20:36.238801Z",
     "iopub.status.busy": "2025-10-17T07:20:36.238053Z",
     "iopub.status.idle": "2025-10-17T07:20:36.307534Z",
     "shell.execute_reply": "2025-10-17T07:20:36.306313Z",
     "shell.execute_reply.started": "2025-10-17T07:20:36.238766Z"
    }
   },
   "outputs": [],
   "source": [
    "df = df[df.prix_unitaire>10]\n"
   ]
  },
  {
   "cell_type": "code",
   "execution_count": 18,
   "id": "9e4cd366-8d91-4d09-9128-699a7099b7d6",
   "metadata": {
    "execution": {
     "iopub.execute_input": "2025-10-17T07:20:36.682118Z",
     "iopub.status.busy": "2025-10-17T07:20:36.681686Z",
     "iopub.status.idle": "2025-10-17T07:20:36.805122Z",
     "shell.execute_reply": "2025-10-17T07:20:36.804463Z",
     "shell.execute_reply.started": "2025-10-17T07:20:36.682089Z"
    }
   },
   "outputs": [],
   "source": [
    "df = df[df.negociant != \"wine_bourse\"]\n",
    "\n",
    "df = df[df.negociant != \"vinum_fine_wines\"]"
   ]
  },
  {
   "cell_type": "code",
   "execution_count": 21,
   "id": "4459216e-6af4-421c-a249-46a714b7da8c",
   "metadata": {
    "execution": {
     "iopub.execute_input": "2025-10-17T07:20:55.720211Z",
     "iopub.status.busy": "2025-10-17T07:20:55.719499Z",
     "iopub.status.idle": "2025-10-17T07:20:55.735603Z",
     "shell.execute_reply": "2025-10-17T07:20:55.733541Z",
     "shell.execute_reply.started": "2025-10-17T07:20:55.720163Z"
    }
   },
   "outputs": [],
   "source": [
    "df.vin = df.vin_clean"
   ]
  },
  {
   "cell_type": "code",
   "execution_count": 22,
   "id": "ec56ec5a",
   "metadata": {
    "ExecuteTime": {
     "end_time": "2025-07-04T07:02:31.482174Z",
     "start_time": "2025-07-04T07:02:27.631369Z"
    },
    "execution": {
     "iopub.execute_input": "2025-10-17T07:20:57.356553Z",
     "iopub.status.busy": "2025-10-17T07:20:57.356043Z",
     "iopub.status.idle": "2025-10-17T07:20:58.308092Z",
     "shell.execute_reply": "2025-10-17T07:20:58.307082Z",
     "shell.execute_reply.started": "2025-10-17T07:20:57.356519Z"
    }
   },
   "outputs": [],
   "source": [
    "df.to_csv('sub_df.csv',index=False)"
   ]
  },
  {
   "cell_type": "code",
   "execution_count": null,
   "id": "939d1c6e-39c3-45b9-a765-cab2b1c55aae",
   "metadata": {},
   "outputs": [],
   "source": []
  }
 ],
 "metadata": {
  "kernelspec": {
   "display_name": "Python 3 (ipykernel)",
   "language": "python",
   "name": "python3"
  },
  "language_info": {
   "codemirror_mode": {
    "name": "ipython",
    "version": 3
   },
   "file_extension": ".py",
   "mimetype": "text/x-python",
   "name": "python",
   "nbconvert_exporter": "python",
   "pygments_lexer": "ipython3",
   "version": "3.12.9"
  },
  "toc": {
   "base_numbering": 1,
   "nav_menu": {},
   "number_sections": true,
   "sideBar": true,
   "skip_h1_title": false,
   "title_cell": "Table of Contents",
   "title_sidebar": "Contents",
   "toc_cell": false,
   "toc_position": {},
   "toc_section_display": true,
   "toc_window_display": false
  }
 },
 "nbformat": 4,
 "nbformat_minor": 5
}
